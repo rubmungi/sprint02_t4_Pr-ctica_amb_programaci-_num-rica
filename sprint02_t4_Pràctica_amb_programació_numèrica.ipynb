{
 "cells": [
  {
   "cell_type": "markdown",
   "id": "43ba7738",
   "metadata": {},
   "source": [
    "# S02 T04: Pràctica amb programació numèrica"
   ]
  },
  {
   "cell_type": "markdown",
   "id": "7fdbf6dc",
   "metadata": {},
   "source": [
    "## Exercici 1. Crea una funció que donat un Array d’una dimensió, et faci un resum estadístic bàsic de les dades. Si detecta que l’array té més d’una dimensió, ha de mostrar un missatge d’error."
   ]
  },
  {
   "cell_type": "code",
   "execution_count": 52,
   "id": "cfa8f115",
   "metadata": {},
   "outputs": [
    {
     "name": "stdout",
     "output_type": "stream",
     "text": [
      "Introdueixi valors numèrics per crear un array d'1-D, separats per un espai en blanc, i premi Intro: 1 2 3 4 5 10 58 69\n",
      "Array: ['1' '2' '3' '4' '5' '10' '58' '69']\n",
      "Elements per dimensió (shape): (8,)\n",
      "Elements totals (size): 8\n",
      "Classe: <class 'numpy.ndarray'>\n",
      "Tipus: <U2\n",
      "Dimensió: 1\n"
     ]
    }
   ],
   "source": [
    "def info_array_1D():\n",
    "    import numpy as np\n",
    "    arr=input(\"Introdueixi valors numèrics per crear un array d'1-D, separats per un espai en blanc, i premi Intro: \")\n",
    "    arr02=arr.split()\n",
    "    arr03=np.array(arr02)\n",
    "\n",
    "    try:\n",
    "        if arr03.ndim==1 and int(np.size(arr03))>1:\n",
    "            print(\"Array: \" + str(arr03))\n",
    "            print(\"Elements per dimensió (shape): \" + str(np.shape(arr03)))\n",
    "            print(\"Elements totals (size): \" + str(np.size(arr03)))\n",
    "            print(\"Classe: \" + str(type(arr03)))\n",
    "            print(\"Tipus: \" + str(arr03.dtype))\n",
    "            print(\"Dimensió: \" + str(arr03.ndim))\n",
    "        else:\n",
    "            print(\"Error, l'array cal que sigui d'1-D i no un escalar. Torna a executar el programa.\")\n",
    "    except:\n",
    "        print(\"Error, l'array no és 1-D. Torna a executar l'entrada de dades.\")\n",
    "\n",
    "info_array_1D()"
   ]
  },
  {
   "cell_type": "markdown",
   "id": "f76b6edc",
   "metadata": {},
   "source": [
    "## Exercici 2. Crea una funció que et generi un quadrat NxN de nombres aleatoris entre el 0 i el 100."
   ]
  },
  {
   "cell_type": "code",
   "execution_count": 24,
   "id": "7ccd8ee1",
   "metadata": {},
   "outputs": [
    {
     "name": "stdout",
     "output_type": "stream",
     "text": [
      "Introdueixi número per generar un quadrat i premi Intro: 2\n",
      "Matriu generada de costat 2\n"
     ]
    },
    {
     "data": {
      "text/plain": [
       "array([[84, 61],\n",
       "       [ 4, 82]])"
      ]
     },
     "execution_count": 24,
     "metadata": {},
     "output_type": "execute_result"
    }
   ],
   "source": [
    "def quadrada():\n",
    "    try:\n",
    "        import random\n",
    "        import numpy as np\n",
    "\n",
    "        costat=input(\"Introdueixi número per generar un quadrat i premi Intro: \")\n",
    "        costat02=costat.split()\n",
    "        costat03=np.array(costat02)\n",
    "        costat04=int(costat03)\n",
    "        quadrat=np.empty((costat04,costat04), dtype=int)\n",
    "\n",
    "        for i in range(costat04):\n",
    "            for j in range(costat04):\n",
    "                value=random.randrange(1,100,1)\n",
    "                quadrat[i,j] = value\n",
    "        print(\"Matriu generada de costat \" + str(costat))\n",
    "        return(quadrat)\n",
    "    except:\n",
    "        print(\"Cal que introdueixis un número\")\n",
    "\n",
    "quadrada()"
   ]
  },
  {
   "cell_type": "markdown",
   "id": "fb5931b4",
   "metadata": {},
   "source": [
    "## Exercici 3. Crea una funció que donada una taula de dues dimensions, et calculi els totals per fila i els totals per columna."
   ]
  },
  {
   "cell_type": "code",
   "execution_count": 23,
   "id": "035218ce",
   "metadata": {},
   "outputs": [
    {
     "name": "stdout",
     "output_type": "stream",
     "text": [
      "Introdueixi número per generar un quadrat i premi Intro: 2\n",
      "Matriu generada de costat 2\n",
      "[[37 90]\n",
      " [82 10]]\n",
      "Suma total columnes, eix vertical axis=0: [119 100]\n",
      "Suma total files, eix horitzontal axis=1: [127  92]\n"
     ]
    }
   ],
   "source": [
    "def sumafilcol():\n",
    "    import numpy as np\n",
    "    quadrat02=quadrada()\n",
    "    print(quadrat02)\n",
    "    sumcol = np.sum(quadrat02, axis=0)\n",
    "    print(\"Suma total columnes, eix vertical axis=0: \" + str(sumcol))\n",
    "    sumfil = np.sum(quadrat02, axis=1)\n",
    "    print(\"Suma total files, eix horitzontal axis=1: \" + str(sumfil))\n",
    "\n",
    "sumafilcol()"
   ]
  },
  {
   "cell_type": "markdown",
   "id": "088601aa",
   "metadata": {},
   "source": [
    "## Exercici 4. Implementa manualment una funció que calculi el coeficient de correlació. Informa-t'en sobre els seus usos i interpretació."
   ]
  },
  {
   "cell_type": "markdown",
   "id": "72591386",
   "metadata": {},
   "source": [
    "#### https://www.cienciadedatos.net/documentos/pystats05-correlacion-lineal-python.html\n",
    "Existen múltiples implementaciones que permiten calcular correlaciones lineales en Python, tres de las más utilizadas están disponibles en las librerías: SciPy, Pandas y Pingouin. A lo largo de este documento se muestran ejemplos de cómo utilizarlas.\n",
    "\n",
    "\n",
    "Los coeficientes de correlación lineal cuantifican la asociación lineal entre dos variables numéricas. Existen diferentes tipos, de entre los que destacan el Pearson, Rho de Spearman y Tau de Kendall. Todos ellos comparten que:\n",
    "- Su valor está comprendido en el rango [+1 , -1]. Siendo +1 una correlación positiva perfecta y -1 una correlación negativa perfecta.\n",
    "- Fuerza de asociación de 0 (nulka a 0.9 (muy alta)."
   ]
  },
  {
   "cell_type": "code",
   "execution_count": 37,
   "id": "1ba493c4",
   "metadata": {},
   "outputs": [
    {
     "name": "stdout",
     "output_type": "stream",
     "text": [
      "{'altura': [2.35, 1.85, 1.26, 1.52, 1.79], 'peso': [100, 50, 40, 80, 120], 'edad': [18, 25, 3, 11, 48], 'male': [1, 0, 1, 0, 1]}\n",
      "Correlación Pearson:  0.554228368501591\n",
      "Correlación spearman:  0.49999999999999994\n",
      "Correlación kendall:  0.39999999999999997\n"
     ]
    }
   ],
   "source": [
    "import pandas as pd\n",
    "import numpy as np\n",
    "\n",
    "dades ={\n",
    "    \"altura\":[2.35, 1.85, 1.26, 1.52, 1.79],\n",
    "    \"peso\":[100, 50, 40, 80, 120],\n",
    "    \"edad\":[18, 25, 3, 11, 48],\n",
    "    \"male\":[1, 0, 1, 0, 1]}\n",
    "\n",
    "#load data into a DataFrame object:\n",
    "datos = pd.DataFrame(dades)\n",
    "print(dades) \n",
    "\n",
    "def correla():\n",
    "    import pandas as pd\n",
    "    import numpy as np\n",
    "    print('Correlación Pearson: ', datos[\"peso\"].corr(datos[\"altura\"], method='pearson'))\n",
    "    print('Correlación spearman: ', datos[\"peso\"].corr(datos[\"altura\"], method='spearman'))\n",
    "    print('Correlación kendall: ', datos[\"peso\"].corr(datos[\"altura\"], method='kendall'))\n",
    "\n",
    "\n",
    "correla()"
   ]
  },
  {
   "cell_type": "code",
   "execution_count": null,
   "id": "aee740eb",
   "metadata": {},
   "outputs": [],
   "source": []
  }
 ],
 "metadata": {
  "kernelspec": {
   "display_name": "Python 3 (ipykernel)",
   "language": "python",
   "name": "python3"
  },
  "language_info": {
   "codemirror_mode": {
    "name": "ipython",
    "version": 3
   },
   "file_extension": ".py",
   "mimetype": "text/x-python",
   "name": "python",
   "nbconvert_exporter": "python",
   "pygments_lexer": "ipython3",
   "version": "3.9.7"
  }
 },
 "nbformat": 4,
 "nbformat_minor": 5
}
